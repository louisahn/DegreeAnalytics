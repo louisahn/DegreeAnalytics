{
 "cells": [
  {
   "cell_type": "code",
   "execution_count": 7,
   "metadata": {},
   "outputs": [],
   "source": [
    "import requests\n",
    "import calendar\n",
    "import time\n",
    "import pandas as pd\n"
   ]
  },
  {
   "cell_type": "code",
   "execution_count": 8,
   "metadata": {},
   "outputs": [],
   "source": [
    "class BuildData:\n",
    "    \n",
    "    def __init__(self):\n",
    "        self.count_list = []\n",
    "        self.base_url = \"https://api.github.com/search/repositories?access_token=6481b04a30740fc2df848184e886e4828d2b758a&q=language:\"\n",
    "        self.count_list = []\n",
    "\n",
    "    def query_data(self, query):\n",
    "        now_year = start_year\n",
    "        while now_year < end_year:\n",
    "            for i in range (1,13):\n",
    "                month = '{:02d}'.format(i)\n",
    "                lastday = calendar.monthrange(now_year,i)[1] #(4,31)\n",
    "            \n",
    "                tmp_url = self.base_url + query + \"+created:\" + str(now_year) + \"-\" + month + \"-01..\" + str(now_year) + \"-\"+ month +\"-\" + str(lastday)\n",
    "                print(tmp_url)\n",
    "                response = requests.get(tmp_url)\n",
    "                if response.status_code == 200:\n",
    "                    self.count_list.append( [ str(now_year)+month  , response.json()['total_count'] ] )\n",
    "                else:\n",
    "                    print('error ', tmp_url)\n",
    "                    print( response.json()['message'] )\n",
    "                    return False\n",
    "                print(tmp_url)\n",
    "            now_year += 1\n",
    "            time.sleep(30) #for api limit \n",
    "        return True"
   ]
  },
  {
   "cell_type": "code",
   "execution_count": 12,
   "metadata": {},
   "outputs": [
    {
     "name": "stdout",
     "output_type": "stream",
     "text": [
      "https://api.github.com/search/repositories?access_token=6481b04a30740fc2df848184e886e4828d2b758a&q=language:R+created:2010-01-01..2010-01-31\n",
      "https://api.github.com/search/repositories?access_token=6481b04a30740fc2df848184e886e4828d2b758a&q=language:R+created:2010-01-01..2010-01-31\n",
      "https://api.github.com/search/repositories?access_token=6481b04a30740fc2df848184e886e4828d2b758a&q=language:R+created:2010-02-01..2010-02-28\n",
      "https://api.github.com/search/repositories?access_token=6481b04a30740fc2df848184e886e4828d2b758a&q=language:R+created:2010-02-01..2010-02-28\n",
      "https://api.github.com/search/repositories?access_token=6481b04a30740fc2df848184e886e4828d2b758a&q=language:R+created:2010-03-01..2010-03-31\n",
      "https://api.github.com/search/repositories?access_token=6481b04a30740fc2df848184e886e4828d2b758a&q=language:R+created:2010-03-01..2010-03-31\n",
      "https://api.github.com/search/repositories?access_token=6481b04a30740fc2df848184e886e4828d2b758a&q=language:R+created:2010-04-01..2010-04-30\n",
      "https://api.github.com/search/repositories?access_token=6481b04a30740fc2df848184e886e4828d2b758a&q=language:R+created:2010-04-01..2010-04-30\n",
      "https://api.github.com/search/repositories?access_token=6481b04a30740fc2df848184e886e4828d2b758a&q=language:R+created:2010-05-01..2010-05-31\n",
      "https://api.github.com/search/repositories?access_token=6481b04a30740fc2df848184e886e4828d2b758a&q=language:R+created:2010-05-01..2010-05-31\n",
      "https://api.github.com/search/repositories?access_token=6481b04a30740fc2df848184e886e4828d2b758a&q=language:R+created:2010-06-01..2010-06-30\n",
      "https://api.github.com/search/repositories?access_token=6481b04a30740fc2df848184e886e4828d2b758a&q=language:R+created:2010-06-01..2010-06-30\n",
      "https://api.github.com/search/repositories?access_token=6481b04a30740fc2df848184e886e4828d2b758a&q=language:R+created:2010-07-01..2010-07-31\n",
      "https://api.github.com/search/repositories?access_token=6481b04a30740fc2df848184e886e4828d2b758a&q=language:R+created:2010-07-01..2010-07-31\n",
      "https://api.github.com/search/repositories?access_token=6481b04a30740fc2df848184e886e4828d2b758a&q=language:R+created:2010-08-01..2010-08-31\n",
      "https://api.github.com/search/repositories?access_token=6481b04a30740fc2df848184e886e4828d2b758a&q=language:R+created:2010-08-01..2010-08-31\n",
      "https://api.github.com/search/repositories?access_token=6481b04a30740fc2df848184e886e4828d2b758a&q=language:R+created:2010-09-01..2010-09-30\n",
      "https://api.github.com/search/repositories?access_token=6481b04a30740fc2df848184e886e4828d2b758a&q=language:R+created:2010-09-01..2010-09-30\n",
      "https://api.github.com/search/repositories?access_token=6481b04a30740fc2df848184e886e4828d2b758a&q=language:R+created:2010-10-01..2010-10-31\n",
      "https://api.github.com/search/repositories?access_token=6481b04a30740fc2df848184e886e4828d2b758a&q=language:R+created:2010-10-01..2010-10-31\n",
      "https://api.github.com/search/repositories?access_token=6481b04a30740fc2df848184e886e4828d2b758a&q=language:R+created:2010-11-01..2010-11-30\n",
      "https://api.github.com/search/repositories?access_token=6481b04a30740fc2df848184e886e4828d2b758a&q=language:R+created:2010-11-01..2010-11-30\n",
      "https://api.github.com/search/repositories?access_token=6481b04a30740fc2df848184e886e4828d2b758a&q=language:R+created:2010-12-01..2010-12-31\n",
      "https://api.github.com/search/repositories?access_token=6481b04a30740fc2df848184e886e4828d2b758a&q=language:R+created:2010-12-01..2010-12-31\n",
      "https://api.github.com/search/repositories?access_token=6481b04a30740fc2df848184e886e4828d2b758a&q=language:R+created:2011-01-01..2011-01-31\n",
      "https://api.github.com/search/repositories?access_token=6481b04a30740fc2df848184e886e4828d2b758a&q=language:R+created:2011-01-01..2011-01-31\n",
      "https://api.github.com/search/repositories?access_token=6481b04a30740fc2df848184e886e4828d2b758a&q=language:R+created:2011-02-01..2011-02-28\n",
      "https://api.github.com/search/repositories?access_token=6481b04a30740fc2df848184e886e4828d2b758a&q=language:R+created:2011-02-01..2011-02-28\n",
      "https://api.github.com/search/repositories?access_token=6481b04a30740fc2df848184e886e4828d2b758a&q=language:R+created:2011-03-01..2011-03-31\n",
      "https://api.github.com/search/repositories?access_token=6481b04a30740fc2df848184e886e4828d2b758a&q=language:R+created:2011-03-01..2011-03-31\n",
      "https://api.github.com/search/repositories?access_token=6481b04a30740fc2df848184e886e4828d2b758a&q=language:R+created:2011-04-01..2011-04-30\n",
      "https://api.github.com/search/repositories?access_token=6481b04a30740fc2df848184e886e4828d2b758a&q=language:R+created:2011-04-01..2011-04-30\n",
      "https://api.github.com/search/repositories?access_token=6481b04a30740fc2df848184e886e4828d2b758a&q=language:R+created:2011-05-01..2011-05-31\n",
      "https://api.github.com/search/repositories?access_token=6481b04a30740fc2df848184e886e4828d2b758a&q=language:R+created:2011-05-01..2011-05-31\n",
      "https://api.github.com/search/repositories?access_token=6481b04a30740fc2df848184e886e4828d2b758a&q=language:R+created:2011-06-01..2011-06-30\n",
      "https://api.github.com/search/repositories?access_token=6481b04a30740fc2df848184e886e4828d2b758a&q=language:R+created:2011-06-01..2011-06-30\n",
      "https://api.github.com/search/repositories?access_token=6481b04a30740fc2df848184e886e4828d2b758a&q=language:R+created:2011-07-01..2011-07-31\n",
      "https://api.github.com/search/repositories?access_token=6481b04a30740fc2df848184e886e4828d2b758a&q=language:R+created:2011-07-01..2011-07-31\n",
      "https://api.github.com/search/repositories?access_token=6481b04a30740fc2df848184e886e4828d2b758a&q=language:R+created:2011-08-01..2011-08-31\n",
      "https://api.github.com/search/repositories?access_token=6481b04a30740fc2df848184e886e4828d2b758a&q=language:R+created:2011-08-01..2011-08-31\n",
      "https://api.github.com/search/repositories?access_token=6481b04a30740fc2df848184e886e4828d2b758a&q=language:R+created:2011-09-01..2011-09-30\n",
      "https://api.github.com/search/repositories?access_token=6481b04a30740fc2df848184e886e4828d2b758a&q=language:R+created:2011-09-01..2011-09-30\n",
      "https://api.github.com/search/repositories?access_token=6481b04a30740fc2df848184e886e4828d2b758a&q=language:R+created:2011-10-01..2011-10-31\n",
      "https://api.github.com/search/repositories?access_token=6481b04a30740fc2df848184e886e4828d2b758a&q=language:R+created:2011-10-01..2011-10-31\n",
      "https://api.github.com/search/repositories?access_token=6481b04a30740fc2df848184e886e4828d2b758a&q=language:R+created:2011-11-01..2011-11-30\n",
      "https://api.github.com/search/repositories?access_token=6481b04a30740fc2df848184e886e4828d2b758a&q=language:R+created:2011-11-01..2011-11-30\n",
      "https://api.github.com/search/repositories?access_token=6481b04a30740fc2df848184e886e4828d2b758a&q=language:R+created:2011-12-01..2011-12-31\n",
      "https://api.github.com/search/repositories?access_token=6481b04a30740fc2df848184e886e4828d2b758a&q=language:R+created:2011-12-01..2011-12-31\n"
     ]
    },
    {
     "data": {
      "text/plain": [
       "True"
      ]
     },
     "execution_count": 12,
     "metadata": {},
     "output_type": "execute_result"
    }
   ],
   "source": [
    "start_year  = 2010\n",
    "end_year    = 2012\n",
    "\n",
    "rdata = BuildData()\n",
    "rdata.query_data(\"R\")"
   ]
  },
  {
   "cell_type": "code",
   "execution_count": 13,
   "metadata": {},
   "outputs": [
    {
     "data": {
      "text/plain": [
       "[['201001', 9],\n",
       " ['201002', 9],\n",
       " ['201003', 15],\n",
       " ['201004', 11],\n",
       " ['201005', 14],\n",
       " ['201006', 19],\n",
       " ['201007', 18],\n",
       " ['201008', 19],\n",
       " ['201009', 29],\n",
       " ['201010', 37],\n",
       " ['201011', 45],\n",
       " ['201012', 40],\n",
       " ['201101', 41],\n",
       " ['201102', 55],\n",
       " ['201103', 52],\n",
       " ['201104', 57],\n",
       " ['201105', 56],\n",
       " ['201106', 51],\n",
       " ['201107', 69],\n",
       " ['201108', 57],\n",
       " ['201109', 84],\n",
       " ['201110', 88],\n",
       " ['201111', 118],\n",
       " ['201112', 90]]"
      ]
     },
     "execution_count": 13,
     "metadata": {},
     "output_type": "execute_result"
    }
   ],
   "source": [
    "rdata.count_list"
   ]
  },
  {
   "cell_type": "code",
   "execution_count": 11,
   "metadata": {},
   "outputs": [
    {
     "name": "stdout",
     "output_type": "stream",
     "text": [
      "https://api.github.com/search/repositories?access_token=6481b04a30740fc2df848184e886e4828d2b758a&q=language:python+created:2010-01-01..2010-01-31\n",
      "https://api.github.com/search/repositories?access_token=6481b04a30740fc2df848184e886e4828d2b758a&q=language:python+created:2010-01-01..2010-01-31\n",
      "https://api.github.com/search/repositories?access_token=6481b04a30740fc2df848184e886e4828d2b758a&q=language:python+created:2010-02-01..2010-02-28\n",
      "https://api.github.com/search/repositories?access_token=6481b04a30740fc2df848184e886e4828d2b758a&q=language:python+created:2010-02-01..2010-02-28\n",
      "https://api.github.com/search/repositories?access_token=6481b04a30740fc2df848184e886e4828d2b758a&q=language:python+created:2010-03-01..2010-03-31\n",
      "https://api.github.com/search/repositories?access_token=6481b04a30740fc2df848184e886e4828d2b758a&q=language:python+created:2010-03-01..2010-03-31\n",
      "https://api.github.com/search/repositories?access_token=6481b04a30740fc2df848184e886e4828d2b758a&q=language:python+created:2010-04-01..2010-04-30\n",
      "https://api.github.com/search/repositories?access_token=6481b04a30740fc2df848184e886e4828d2b758a&q=language:python+created:2010-04-01..2010-04-30\n",
      "https://api.github.com/search/repositories?access_token=6481b04a30740fc2df848184e886e4828d2b758a&q=language:python+created:2010-05-01..2010-05-31\n",
      "https://api.github.com/search/repositories?access_token=6481b04a30740fc2df848184e886e4828d2b758a&q=language:python+created:2010-05-01..2010-05-31\n",
      "https://api.github.com/search/repositories?access_token=6481b04a30740fc2df848184e886e4828d2b758a&q=language:python+created:2010-06-01..2010-06-30\n",
      "https://api.github.com/search/repositories?access_token=6481b04a30740fc2df848184e886e4828d2b758a&q=language:python+created:2010-06-01..2010-06-30\n",
      "https://api.github.com/search/repositories?access_token=6481b04a30740fc2df848184e886e4828d2b758a&q=language:python+created:2010-07-01..2010-07-31\n",
      "https://api.github.com/search/repositories?access_token=6481b04a30740fc2df848184e886e4828d2b758a&q=language:python+created:2010-07-01..2010-07-31\n",
      "https://api.github.com/search/repositories?access_token=6481b04a30740fc2df848184e886e4828d2b758a&q=language:python+created:2010-08-01..2010-08-31\n",
      "https://api.github.com/search/repositories?access_token=6481b04a30740fc2df848184e886e4828d2b758a&q=language:python+created:2010-08-01..2010-08-31\n",
      "https://api.github.com/search/repositories?access_token=6481b04a30740fc2df848184e886e4828d2b758a&q=language:python+created:2010-09-01..2010-09-30\n",
      "https://api.github.com/search/repositories?access_token=6481b04a30740fc2df848184e886e4828d2b758a&q=language:python+created:2010-09-01..2010-09-30\n",
      "https://api.github.com/search/repositories?access_token=6481b04a30740fc2df848184e886e4828d2b758a&q=language:python+created:2010-10-01..2010-10-31\n",
      "https://api.github.com/search/repositories?access_token=6481b04a30740fc2df848184e886e4828d2b758a&q=language:python+created:2010-10-01..2010-10-31\n",
      "https://api.github.com/search/repositories?access_token=6481b04a30740fc2df848184e886e4828d2b758a&q=language:python+created:2010-11-01..2010-11-30\n",
      "https://api.github.com/search/repositories?access_token=6481b04a30740fc2df848184e886e4828d2b758a&q=language:python+created:2010-11-01..2010-11-30\n",
      "https://api.github.com/search/repositories?access_token=6481b04a30740fc2df848184e886e4828d2b758a&q=language:python+created:2010-12-01..2010-12-31\n",
      "https://api.github.com/search/repositories?access_token=6481b04a30740fc2df848184e886e4828d2b758a&q=language:python+created:2010-12-01..2010-12-31\n",
      "https://api.github.com/search/repositories?access_token=6481b04a30740fc2df848184e886e4828d2b758a&q=language:python+created:2011-01-01..2011-01-31\n",
      "https://api.github.com/search/repositories?access_token=6481b04a30740fc2df848184e886e4828d2b758a&q=language:python+created:2011-01-01..2011-01-31\n",
      "https://api.github.com/search/repositories?access_token=6481b04a30740fc2df848184e886e4828d2b758a&q=language:python+created:2011-02-01..2011-02-28\n",
      "https://api.github.com/search/repositories?access_token=6481b04a30740fc2df848184e886e4828d2b758a&q=language:python+created:2011-02-01..2011-02-28\n",
      "https://api.github.com/search/repositories?access_token=6481b04a30740fc2df848184e886e4828d2b758a&q=language:python+created:2011-03-01..2011-03-31\n",
      "https://api.github.com/search/repositories?access_token=6481b04a30740fc2df848184e886e4828d2b758a&q=language:python+created:2011-03-01..2011-03-31\n",
      "https://api.github.com/search/repositories?access_token=6481b04a30740fc2df848184e886e4828d2b758a&q=language:python+created:2011-04-01..2011-04-30\n",
      "https://api.github.com/search/repositories?access_token=6481b04a30740fc2df848184e886e4828d2b758a&q=language:python+created:2011-04-01..2011-04-30\n",
      "https://api.github.com/search/repositories?access_token=6481b04a30740fc2df848184e886e4828d2b758a&q=language:python+created:2011-05-01..2011-05-31\n",
      "https://api.github.com/search/repositories?access_token=6481b04a30740fc2df848184e886e4828d2b758a&q=language:python+created:2011-05-01..2011-05-31\n",
      "https://api.github.com/search/repositories?access_token=6481b04a30740fc2df848184e886e4828d2b758a&q=language:python+created:2011-06-01..2011-06-30\n",
      "https://api.github.com/search/repositories?access_token=6481b04a30740fc2df848184e886e4828d2b758a&q=language:python+created:2011-06-01..2011-06-30\n",
      "https://api.github.com/search/repositories?access_token=6481b04a30740fc2df848184e886e4828d2b758a&q=language:python+created:2011-07-01..2011-07-31\n",
      "https://api.github.com/search/repositories?access_token=6481b04a30740fc2df848184e886e4828d2b758a&q=language:python+created:2011-07-01..2011-07-31\n",
      "https://api.github.com/search/repositories?access_token=6481b04a30740fc2df848184e886e4828d2b758a&q=language:python+created:2011-08-01..2011-08-31\n",
      "https://api.github.com/search/repositories?access_token=6481b04a30740fc2df848184e886e4828d2b758a&q=language:python+created:2011-08-01..2011-08-31\n",
      "https://api.github.com/search/repositories?access_token=6481b04a30740fc2df848184e886e4828d2b758a&q=language:python+created:2011-09-01..2011-09-30\n",
      "https://api.github.com/search/repositories?access_token=6481b04a30740fc2df848184e886e4828d2b758a&q=language:python+created:2011-09-01..2011-09-30\n",
      "https://api.github.com/search/repositories?access_token=6481b04a30740fc2df848184e886e4828d2b758a&q=language:python+created:2011-10-01..2011-10-31\n",
      "https://api.github.com/search/repositories?access_token=6481b04a30740fc2df848184e886e4828d2b758a&q=language:python+created:2011-10-01..2011-10-31\n",
      "https://api.github.com/search/repositories?access_token=6481b04a30740fc2df848184e886e4828d2b758a&q=language:python+created:2011-11-01..2011-11-30\n",
      "https://api.github.com/search/repositories?access_token=6481b04a30740fc2df848184e886e4828d2b758a&q=language:python+created:2011-11-01..2011-11-30\n",
      "https://api.github.com/search/repositories?access_token=6481b04a30740fc2df848184e886e4828d2b758a&q=language:python+created:2011-12-01..2011-12-31\n",
      "https://api.github.com/search/repositories?access_token=6481b04a30740fc2df848184e886e4828d2b758a&q=language:python+created:2011-12-01..2011-12-31\n"
     ]
    },
    {
     "data": {
      "text/plain": [
       "[['201001', 1038],\n",
       " ['201002', 969],\n",
       " ['201003', 1093],\n",
       " ['201004', 1162],\n",
       " ['201005', 1120],\n",
       " ['201006', 1205],\n",
       " ['201007', 1332],\n",
       " ['201008', 1549],\n",
       " ['201009', 1547],\n",
       " ['201010', 1827],\n",
       " ['201011', 1900],\n",
       " ['201012', 1955],\n",
       " ['201101', 2024],\n",
       " ['201102', 2321],\n",
       " ['201103', 2697],\n",
       " ['201104', 2776],\n",
       " ['201105', 2788],\n",
       " ['201106', 2960],\n",
       " ['201107', 3250],\n",
       " ['201108', 3336],\n",
       " ['201109', 3733],\n",
       " ['201110', 3678],\n",
       " ['201111', 3806],\n",
       " ['201112', 3747]]"
      ]
     },
     "execution_count": 11,
     "metadata": {},
     "output_type": "execute_result"
    }
   ],
   "source": [
    "pdata = BuildData()\n",
    "pdata.query_data(\"python\")\n",
    "pdata.count_list"
   ]
  },
  {
   "cell_type": "code",
   "execution_count": 15,
   "metadata": {},
   "outputs": [],
   "source": [
    "dfp = pd.DataFrame(pdata.count_list, columns=['YYYYMM', 'Pcnt'])\n",
    "dfr = pd.DataFrame(rdata.count_list, columns=['YYYYMM', 'Rcnt'])\n",
    "\n",
    "\n"
   ]
  },
  {
   "cell_type": "code",
   "execution_count": 32,
   "metadata": {},
   "outputs": [],
   "source": [
    "import numpy as np\n",
    "import matplotlib.pylab as plt\n",
    "%matplotlib inline\n",
    "import matplotlib.pyplot as plt\n",
    "plt.style.use('fivethirtyeight')"
   ]
  },
  {
   "cell_type": "code",
   "execution_count": 21,
   "metadata": {},
   "outputs": [],
   "source": [
    "dfr['date']  = pd.to_datetime(dfr['YYYYMM'], format='%Y%m')\n"
   ]
  },
  {
   "cell_type": "code",
   "execution_count": 28,
   "metadata": {},
   "outputs": [
    {
     "ename": "KeyError",
     "evalue": "'date'",
     "output_type": "error",
     "traceback": [
      "\u001b[1;31m---------------------------------------------------------------------------\u001b[0m",
      "\u001b[1;31mKeyError\u001b[0m                                  Traceback (most recent call last)",
      "\u001b[1;32md:\\Users\\Louis\\Anaconda3\\lib\\site-packages\\pandas\\core\\indexes\\base.py\u001b[0m in \u001b[0;36mget_loc\u001b[1;34m(self, key, method, tolerance)\u001b[0m\n\u001b[0;32m   2524\u001b[0m             \u001b[1;32mtry\u001b[0m\u001b[1;33m:\u001b[0m\u001b[1;33m\u001b[0m\u001b[0m\n\u001b[1;32m-> 2525\u001b[1;33m                 \u001b[1;32mreturn\u001b[0m \u001b[0mself\u001b[0m\u001b[1;33m.\u001b[0m\u001b[0m_engine\u001b[0m\u001b[1;33m.\u001b[0m\u001b[0mget_loc\u001b[0m\u001b[1;33m(\u001b[0m\u001b[0mkey\u001b[0m\u001b[1;33m)\u001b[0m\u001b[1;33m\u001b[0m\u001b[0m\n\u001b[0m\u001b[0;32m   2526\u001b[0m             \u001b[1;32mexcept\u001b[0m \u001b[0mKeyError\u001b[0m\u001b[1;33m:\u001b[0m\u001b[1;33m\u001b[0m\u001b[0m\n",
      "\u001b[1;32mpandas/_libs/index.pyx\u001b[0m in \u001b[0;36mpandas._libs.index.IndexEngine.get_loc\u001b[1;34m()\u001b[0m\n",
      "\u001b[1;32mpandas/_libs/index.pyx\u001b[0m in \u001b[0;36mpandas._libs.index.IndexEngine.get_loc\u001b[1;34m()\u001b[0m\n",
      "\u001b[1;32mpandas/_libs/hashtable_class_helper.pxi\u001b[0m in \u001b[0;36mpandas._libs.hashtable.PyObjectHashTable.get_item\u001b[1;34m()\u001b[0m\n",
      "\u001b[1;32mpandas/_libs/hashtable_class_helper.pxi\u001b[0m in \u001b[0;36mpandas._libs.hashtable.PyObjectHashTable.get_item\u001b[1;34m()\u001b[0m\n",
      "\u001b[1;31mKeyError\u001b[0m: 'date'",
      "\nDuring handling of the above exception, another exception occurred:\n",
      "\u001b[1;31mKeyError\u001b[0m                                  Traceback (most recent call last)",
      "\u001b[1;32m<ipython-input-28-794c96a30f37>\u001b[0m in \u001b[0;36m<module>\u001b[1;34m()\u001b[0m\n\u001b[1;32m----> 1\u001b[1;33m \u001b[0mdfr\u001b[0m \u001b[1;33m=\u001b[0m \u001b[0mdfr\u001b[0m\u001b[1;33m.\u001b[0m\u001b[0mset_index\u001b[0m\u001b[1;33m(\u001b[0m\u001b[1;34m'date'\u001b[0m\u001b[1;33m)\u001b[0m\u001b[1;33m\u001b[0m\u001b[0m\n\u001b[0m",
      "\u001b[1;32md:\\Users\\Louis\\Anaconda3\\lib\\site-packages\\pandas\\core\\frame.py\u001b[0m in \u001b[0;36mset_index\u001b[1;34m(self, keys, drop, append, inplace, verify_integrity)\u001b[0m\n\u001b[0;32m   3144\u001b[0m                 \u001b[0mnames\u001b[0m\u001b[1;33m.\u001b[0m\u001b[0mappend\u001b[0m\u001b[1;33m(\u001b[0m\u001b[1;32mNone\u001b[0m\u001b[1;33m)\u001b[0m\u001b[1;33m\u001b[0m\u001b[0m\n\u001b[0;32m   3145\u001b[0m             \u001b[1;32melse\u001b[0m\u001b[1;33m:\u001b[0m\u001b[1;33m\u001b[0m\u001b[0m\n\u001b[1;32m-> 3146\u001b[1;33m                 \u001b[0mlevel\u001b[0m \u001b[1;33m=\u001b[0m \u001b[0mframe\u001b[0m\u001b[1;33m[\u001b[0m\u001b[0mcol\u001b[0m\u001b[1;33m]\u001b[0m\u001b[1;33m.\u001b[0m\u001b[0m_values\u001b[0m\u001b[1;33m\u001b[0m\u001b[0m\n\u001b[0m\u001b[0;32m   3147\u001b[0m                 \u001b[0mnames\u001b[0m\u001b[1;33m.\u001b[0m\u001b[0mappend\u001b[0m\u001b[1;33m(\u001b[0m\u001b[0mcol\u001b[0m\u001b[1;33m)\u001b[0m\u001b[1;33m\u001b[0m\u001b[0m\n\u001b[0;32m   3148\u001b[0m                 \u001b[1;32mif\u001b[0m \u001b[0mdrop\u001b[0m\u001b[1;33m:\u001b[0m\u001b[1;33m\u001b[0m\u001b[0m\n",
      "\u001b[1;32md:\\Users\\Louis\\Anaconda3\\lib\\site-packages\\pandas\\core\\frame.py\u001b[0m in \u001b[0;36m__getitem__\u001b[1;34m(self, key)\u001b[0m\n\u001b[0;32m   2137\u001b[0m             \u001b[1;32mreturn\u001b[0m \u001b[0mself\u001b[0m\u001b[1;33m.\u001b[0m\u001b[0m_getitem_multilevel\u001b[0m\u001b[1;33m(\u001b[0m\u001b[0mkey\u001b[0m\u001b[1;33m)\u001b[0m\u001b[1;33m\u001b[0m\u001b[0m\n\u001b[0;32m   2138\u001b[0m         \u001b[1;32melse\u001b[0m\u001b[1;33m:\u001b[0m\u001b[1;33m\u001b[0m\u001b[0m\n\u001b[1;32m-> 2139\u001b[1;33m             \u001b[1;32mreturn\u001b[0m \u001b[0mself\u001b[0m\u001b[1;33m.\u001b[0m\u001b[0m_getitem_column\u001b[0m\u001b[1;33m(\u001b[0m\u001b[0mkey\u001b[0m\u001b[1;33m)\u001b[0m\u001b[1;33m\u001b[0m\u001b[0m\n\u001b[0m\u001b[0;32m   2140\u001b[0m \u001b[1;33m\u001b[0m\u001b[0m\n\u001b[0;32m   2141\u001b[0m     \u001b[1;32mdef\u001b[0m \u001b[0m_getitem_column\u001b[0m\u001b[1;33m(\u001b[0m\u001b[0mself\u001b[0m\u001b[1;33m,\u001b[0m \u001b[0mkey\u001b[0m\u001b[1;33m)\u001b[0m\u001b[1;33m:\u001b[0m\u001b[1;33m\u001b[0m\u001b[0m\n",
      "\u001b[1;32md:\\Users\\Louis\\Anaconda3\\lib\\site-packages\\pandas\\core\\frame.py\u001b[0m in \u001b[0;36m_getitem_column\u001b[1;34m(self, key)\u001b[0m\n\u001b[0;32m   2144\u001b[0m         \u001b[1;31m# get column\u001b[0m\u001b[1;33m\u001b[0m\u001b[1;33m\u001b[0m\u001b[0m\n\u001b[0;32m   2145\u001b[0m         \u001b[1;32mif\u001b[0m \u001b[0mself\u001b[0m\u001b[1;33m.\u001b[0m\u001b[0mcolumns\u001b[0m\u001b[1;33m.\u001b[0m\u001b[0mis_unique\u001b[0m\u001b[1;33m:\u001b[0m\u001b[1;33m\u001b[0m\u001b[0m\n\u001b[1;32m-> 2146\u001b[1;33m             \u001b[1;32mreturn\u001b[0m \u001b[0mself\u001b[0m\u001b[1;33m.\u001b[0m\u001b[0m_get_item_cache\u001b[0m\u001b[1;33m(\u001b[0m\u001b[0mkey\u001b[0m\u001b[1;33m)\u001b[0m\u001b[1;33m\u001b[0m\u001b[0m\n\u001b[0m\u001b[0;32m   2147\u001b[0m \u001b[1;33m\u001b[0m\u001b[0m\n\u001b[0;32m   2148\u001b[0m         \u001b[1;31m# duplicate columns & possible reduce dimensionality\u001b[0m\u001b[1;33m\u001b[0m\u001b[1;33m\u001b[0m\u001b[0m\n",
      "\u001b[1;32md:\\Users\\Louis\\Anaconda3\\lib\\site-packages\\pandas\\core\\generic.py\u001b[0m in \u001b[0;36m_get_item_cache\u001b[1;34m(self, item)\u001b[0m\n\u001b[0;32m   1840\u001b[0m         \u001b[0mres\u001b[0m \u001b[1;33m=\u001b[0m \u001b[0mcache\u001b[0m\u001b[1;33m.\u001b[0m\u001b[0mget\u001b[0m\u001b[1;33m(\u001b[0m\u001b[0mitem\u001b[0m\u001b[1;33m)\u001b[0m\u001b[1;33m\u001b[0m\u001b[0m\n\u001b[0;32m   1841\u001b[0m         \u001b[1;32mif\u001b[0m \u001b[0mres\u001b[0m \u001b[1;32mis\u001b[0m \u001b[1;32mNone\u001b[0m\u001b[1;33m:\u001b[0m\u001b[1;33m\u001b[0m\u001b[0m\n\u001b[1;32m-> 1842\u001b[1;33m             \u001b[0mvalues\u001b[0m \u001b[1;33m=\u001b[0m \u001b[0mself\u001b[0m\u001b[1;33m.\u001b[0m\u001b[0m_data\u001b[0m\u001b[1;33m.\u001b[0m\u001b[0mget\u001b[0m\u001b[1;33m(\u001b[0m\u001b[0mitem\u001b[0m\u001b[1;33m)\u001b[0m\u001b[1;33m\u001b[0m\u001b[0m\n\u001b[0m\u001b[0;32m   1843\u001b[0m             \u001b[0mres\u001b[0m \u001b[1;33m=\u001b[0m \u001b[0mself\u001b[0m\u001b[1;33m.\u001b[0m\u001b[0m_box_item_values\u001b[0m\u001b[1;33m(\u001b[0m\u001b[0mitem\u001b[0m\u001b[1;33m,\u001b[0m \u001b[0mvalues\u001b[0m\u001b[1;33m)\u001b[0m\u001b[1;33m\u001b[0m\u001b[0m\n\u001b[0;32m   1844\u001b[0m             \u001b[0mcache\u001b[0m\u001b[1;33m[\u001b[0m\u001b[0mitem\u001b[0m\u001b[1;33m]\u001b[0m \u001b[1;33m=\u001b[0m \u001b[0mres\u001b[0m\u001b[1;33m\u001b[0m\u001b[0m\n",
      "\u001b[1;32md:\\Users\\Louis\\Anaconda3\\lib\\site-packages\\pandas\\core\\internals.py\u001b[0m in \u001b[0;36mget\u001b[1;34m(self, item, fastpath)\u001b[0m\n\u001b[0;32m   3841\u001b[0m \u001b[1;33m\u001b[0m\u001b[0m\n\u001b[0;32m   3842\u001b[0m             \u001b[1;32mif\u001b[0m \u001b[1;32mnot\u001b[0m \u001b[0misna\u001b[0m\u001b[1;33m(\u001b[0m\u001b[0mitem\u001b[0m\u001b[1;33m)\u001b[0m\u001b[1;33m:\u001b[0m\u001b[1;33m\u001b[0m\u001b[0m\n\u001b[1;32m-> 3843\u001b[1;33m                 \u001b[0mloc\u001b[0m \u001b[1;33m=\u001b[0m \u001b[0mself\u001b[0m\u001b[1;33m.\u001b[0m\u001b[0mitems\u001b[0m\u001b[1;33m.\u001b[0m\u001b[0mget_loc\u001b[0m\u001b[1;33m(\u001b[0m\u001b[0mitem\u001b[0m\u001b[1;33m)\u001b[0m\u001b[1;33m\u001b[0m\u001b[0m\n\u001b[0m\u001b[0;32m   3844\u001b[0m             \u001b[1;32melse\u001b[0m\u001b[1;33m:\u001b[0m\u001b[1;33m\u001b[0m\u001b[0m\n\u001b[0;32m   3845\u001b[0m                 \u001b[0mindexer\u001b[0m \u001b[1;33m=\u001b[0m \u001b[0mnp\u001b[0m\u001b[1;33m.\u001b[0m\u001b[0marange\u001b[0m\u001b[1;33m(\u001b[0m\u001b[0mlen\u001b[0m\u001b[1;33m(\u001b[0m\u001b[0mself\u001b[0m\u001b[1;33m.\u001b[0m\u001b[0mitems\u001b[0m\u001b[1;33m)\u001b[0m\u001b[1;33m)\u001b[0m\u001b[1;33m[\u001b[0m\u001b[0misna\u001b[0m\u001b[1;33m(\u001b[0m\u001b[0mself\u001b[0m\u001b[1;33m.\u001b[0m\u001b[0mitems\u001b[0m\u001b[1;33m)\u001b[0m\u001b[1;33m]\u001b[0m\u001b[1;33m\u001b[0m\u001b[0m\n",
      "\u001b[1;32md:\\Users\\Louis\\Anaconda3\\lib\\site-packages\\pandas\\core\\indexes\\base.py\u001b[0m in \u001b[0;36mget_loc\u001b[1;34m(self, key, method, tolerance)\u001b[0m\n\u001b[0;32m   2525\u001b[0m                 \u001b[1;32mreturn\u001b[0m \u001b[0mself\u001b[0m\u001b[1;33m.\u001b[0m\u001b[0m_engine\u001b[0m\u001b[1;33m.\u001b[0m\u001b[0mget_loc\u001b[0m\u001b[1;33m(\u001b[0m\u001b[0mkey\u001b[0m\u001b[1;33m)\u001b[0m\u001b[1;33m\u001b[0m\u001b[0m\n\u001b[0;32m   2526\u001b[0m             \u001b[1;32mexcept\u001b[0m \u001b[0mKeyError\u001b[0m\u001b[1;33m:\u001b[0m\u001b[1;33m\u001b[0m\u001b[0m\n\u001b[1;32m-> 2527\u001b[1;33m                 \u001b[1;32mreturn\u001b[0m \u001b[0mself\u001b[0m\u001b[1;33m.\u001b[0m\u001b[0m_engine\u001b[0m\u001b[1;33m.\u001b[0m\u001b[0mget_loc\u001b[0m\u001b[1;33m(\u001b[0m\u001b[0mself\u001b[0m\u001b[1;33m.\u001b[0m\u001b[0m_maybe_cast_indexer\u001b[0m\u001b[1;33m(\u001b[0m\u001b[0mkey\u001b[0m\u001b[1;33m)\u001b[0m\u001b[1;33m)\u001b[0m\u001b[1;33m\u001b[0m\u001b[0m\n\u001b[0m\u001b[0;32m   2528\u001b[0m \u001b[1;33m\u001b[0m\u001b[0m\n\u001b[0;32m   2529\u001b[0m         \u001b[0mindexer\u001b[0m \u001b[1;33m=\u001b[0m \u001b[0mself\u001b[0m\u001b[1;33m.\u001b[0m\u001b[0mget_indexer\u001b[0m\u001b[1;33m(\u001b[0m\u001b[1;33m[\u001b[0m\u001b[0mkey\u001b[0m\u001b[1;33m]\u001b[0m\u001b[1;33m,\u001b[0m \u001b[0mmethod\u001b[0m\u001b[1;33m=\u001b[0m\u001b[0mmethod\u001b[0m\u001b[1;33m,\u001b[0m \u001b[0mtolerance\u001b[0m\u001b[1;33m=\u001b[0m\u001b[0mtolerance\u001b[0m\u001b[1;33m)\u001b[0m\u001b[1;33m\u001b[0m\u001b[0m\n",
      "\u001b[1;32mpandas/_libs/index.pyx\u001b[0m in \u001b[0;36mpandas._libs.index.IndexEngine.get_loc\u001b[1;34m()\u001b[0m\n",
      "\u001b[1;32mpandas/_libs/index.pyx\u001b[0m in \u001b[0;36mpandas._libs.index.IndexEngine.get_loc\u001b[1;34m()\u001b[0m\n",
      "\u001b[1;32mpandas/_libs/hashtable_class_helper.pxi\u001b[0m in \u001b[0;36mpandas._libs.hashtable.PyObjectHashTable.get_item\u001b[1;34m()\u001b[0m\n",
      "\u001b[1;32mpandas/_libs/hashtable_class_helper.pxi\u001b[0m in \u001b[0;36mpandas._libs.hashtable.PyObjectHashTable.get_item\u001b[1;34m()\u001b[0m\n",
      "\u001b[1;31mKeyError\u001b[0m: 'date'"
     ]
    }
   ],
   "source": [
    "dfr = dfr.set_index('date')\n"
   ]
  },
  {
   "cell_type": "code",
   "execution_count": 30,
   "metadata": {},
   "outputs": [
    {
     "data": {
      "text/plain": [
       "DatetimeIndex(['2010-01-01', '2010-02-01', '2010-03-01', '2010-04-01',\n",
       "               '2010-05-01', '2010-06-01', '2010-07-01', '2010-08-01',\n",
       "               '2010-09-01', '2010-10-01', '2010-11-01', '2010-12-01',\n",
       "               '2011-01-01', '2011-02-01', '2011-03-01', '2011-04-01',\n",
       "               '2011-05-01', '2011-06-01', '2011-07-01', '2011-08-01',\n",
       "               '2011-09-01', '2011-10-01', '2011-11-01', '2011-12-01'],\n",
       "              dtype='datetime64[ns]', name='date', freq=None)"
      ]
     },
     "execution_count": 30,
     "metadata": {},
     "output_type": "execute_result"
    }
   ],
   "source": [
    "dfr.index"
   ]
  },
  {
   "cell_type": "code",
   "execution_count": 35,
   "metadata": {},
   "outputs": [
    {
     "data": {
      "image/png": "[encoded data removed]",
      "text/plain": [
       "<matplotlib.figure.Figure at 0x11626773390>"
      ]
     },
     "metadata": {},
     "output_type": "display_data"
    }
   ],
   "source": [
    "dfr.plot(figsize=(15, 6))\n",
    "plt.show()\n"
   ]
  }
 ],
 "metadata": {
  "kernelspec": {
   "display_name": "Python 3",
   "language": "python",
   "name": "python3"
  },
  "language_info": {
   "codemirror_mode": {
    "name": "ipython",
    "version": 3
   },
   "file_extension": ".py",
   "mimetype": "text/x-python",
   "name": "python",
   "nbconvert_exporter": "python",
   "pygments_lexer": "ipython3",
   "version": "3.6.4"
  }
 },
 "nbformat": 4,
 "nbformat_minor": 2
}
