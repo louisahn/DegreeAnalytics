{
 "cells": [
  {
   "cell_type": "code",
   "execution_count": null,
   "metadata": {},
   "outputs": [],
   "source": [
    "import requests\n",
    "import calendar\n",
    "import time\n",
    "import pandas as pd\n",
    "import calendar\n",
    "import time"
   ]
  },
  {
   "cell_type": "code",
   "execution_count": null,
   "metadata": {},
   "outputs": [],
   "source": [
    "with open (\"token.txt\", \"r\") as myfile:\n",
    "    data=myfile.readlines()\n",
    "token=data[0]"
   ]
  },
  {
   "cell_type": "code",
   "execution_count": null,
   "metadata": {},
   "outputs": [],
   "source": [
    "start_year  = 2010\n",
    "end_year    = 2018"
   ]
  },
  {
   "cell_type": "code",
   "execution_count": null,
   "metadata": {},
   "outputs": [],
   "source": [
    "class BuildData:\n",
    "    \n",
    "    def __init__(self):\n",
    "        self.base_url = \"https://api.github.com/search/repositories?access_token=\" + token +\"&q=language:\"\n",
    "        self.count_list = []\n",
    "\n",
    "    def query_data(self, query):\n",
    "        now_year = start_year\n",
    "        while now_year <= end_year:\n",
    "            for i in range (1,13):\n",
    "                month = '{:02d}'.format(i)\n",
    "                lastday = calendar.monthrange(now_year,i)[1] #get the last day of the month\n",
    "            \n",
    "                tmp_url = self.base_url + query + \"+created:\" + str(now_year) + \"-\" + month + \"-01..\" + str(now_year) + \"-\"+ month +\"-\" + str(lastday)\n",
    "                #print(tmp_url)\n",
    "                response = requests.get(tmp_url)\n",
    "                if response.status_code == 200:\n",
    "                    self.count_list.append( [ str(now_year)+month+'01'  , response.json()['total_count'] ] )\n",
    "                else:\n",
    "                    print('error ', tmp_url)\n",
    "                    print( response.json()['message'] )\n",
    "                    return False\n",
    "            now_year += 1\n",
    "            time.sleep(30) #for api limit\n",
    "        return True"
   ]
  },
  {
   "cell_type": "code",
   "execution_count": null,
   "metadata": {},
   "outputs": [],
   "source": [
    "rdata = BuildData()\n",
    "rdata.query_data(\"R\")\n",
    "rdata.count_list"
   ]
  },
  {
   "cell_type": "code",
   "execution_count": null,
   "metadata": {},
   "outputs": [],
   "source": [
    "pdata = BuildData()\n",
    "pdata.query_data(\"python\")\n",
    "pdata.count_list"
   ]
  },
  {
   "cell_type": "code",
   "execution_count": null,
   "metadata": {},
   "outputs": [],
   "source": [
    "dfp = pd.DataFrame(pdata.count_list, columns=['YYYYMM', 'Pcnt'])\n",
    "dfr = pd.DataFrame(rdata.count_list, columns=['YYYYMM', 'Rcnt'])\n",
    "df = pd.merge(dfp, dfr)\n",
    "df.to_csv('results.csv', index=False)"
   ]
  },
  {
   "cell_type": "code",
   "execution_count": null,
   "metadata": {},
   "outputs": [],
   "source": [
    "import matplotlib.pylab as plt\n",
    "%matplotlib inline\n",
    "plt.style.use('fivethirtyeight')\n",
    "df.plot(figsize=(15, 15))\n",
    "plt.show()"
   ]
  },
  {
   "cell_type": "code",
   "execution_count": null,
   "metadata": {},
   "outputs": [],
   "source": [
    "#df['date']  = pd.to_datetime(df['YYYYMM'], format='%Y%m')\n",
    "#df = dfr.set_index('date')\n"
   ]
  },
  {
   "cell_type": "code",
   "execution_count": null,
   "metadata": {},
   "outputs": [],
   "source": []
  },
  {
   "cell_type": "code",
   "execution_count": null,
   "metadata": {},
   "outputs": [],
   "source": []
  },
  {
   "cell_type": "code",
   "execution_count": null,
   "metadata": {},
   "outputs": [],
   "source": []
  },
  {
   "cell_type": "code",
   "execution_count": null,
   "metadata": {},
   "outputs": [],
   "source": [
    "\n"
   ]
  }
 ],
 "metadata": {
  "kernelspec": {
   "display_name": "Python 3",
   "language": "python",
   "name": "python3"
  },
  "language_info": {
   "codemirror_mode": {
    "name": "ipython",
    "version": 3
   },
   "file_extension": ".py",
   "mimetype": "text/x-python",
   "name": "python",
   "nbconvert_exporter": "python",
   "pygments_lexer": "ipython3",
   "version": "3.7.1"
  }
 },
 "nbformat": 4,
 "nbformat_minor": 2
}
