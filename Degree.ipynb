{
 "cells": [
  {
   "cell_type": "code",
   "execution_count": 34,
   "metadata": {},
   "outputs": [],
   "source": [
    "import requests\n",
    "import calendar\n",
    "import time\n",
    "\n",
    "base_url_p    = \"https://api.github.com/search/repositories?q=language:python\"\n",
    "base_url_r    = \"https://api.github.com/search/repositories?q=language:R+created:\"\n",
    "\n",
    "start_year  = 2010\n",
    "end_year    = 2019\n",
    "start_mon   = 1\n",
    "end_mon     = 12\n",
    "\n",
    "calendar.monthrange(2016,1)[1] #(4,31)"
   ]
  },
  {
   "cell_type": "code",
   "execution_count": 87,
   "metadata": {},
   "outputs": [],
   "source": [
    "class BuildData:\n",
    "    \n",
    "    def __init__(self):\n",
    "        self.count_list = []\n",
    "        self.base_url = \"https://api.github.com/search/repositories?q=language:\"\n",
    "        self.df = pd.DataFrame(columns=['YYYYMM','Count'])\n",
    "        self.count_list = []\n",
    "\n",
    "    def query_data(self, query):\n",
    "        now_year = start_year\n",
    "        while now_year < end_year:\n",
    "            for i in range (1,13):\n",
    "                month = '{:02d}'.format(i)\n",
    "                lastday = calendar.monthrange(now_year,i)[1] #(4,31)\n",
    "            \n",
    "                tmp_url = self.base_url + query + \"+created:\" + str(now_year) + \"-\" + month + \"-01..\" + str(now_year) + \"-\"+ month +\"-\" + str(lastday)\n",
    "                print(tmp_url)\n",
    "                response = requests.get(tmp_url)\n",
    "                if response.status_code == 200:\n",
    "                    self.count_list.append( [ str(now_year)+month  , response.json()['total_count'] ] )\n",
    "                else:\n",
    "                    print('error ', tmp_url)\n",
    "                    print( response.json()['total_count'] )\n",
    "                    return False\n",
    "                print(tmp_url)\n",
    "            now_year += 1\n",
    "            time.sleep(30) #for api limit \n",
    "        return True"
   ]
  },
  {
   "cell_type": "code",
   "execution_count": 89,
   "metadata": {},
   "outputs": [
    {
     "name": "stdout",
     "output_type": "stream",
     "text": [
      "https://api.github.com/search/repositories?q=language:python+created:2010-01-01..2010-01-31\n",
      "https://api.github.com/search/repositories?q=language:python+created:2010-01-01..2010-01-31\n",
      "https://api.github.com/search/repositories?q=language:python+created:2010-02-01..2010-02-28\n",
      "https://api.github.com/search/repositories?q=language:python+created:2010-02-01..2010-02-28\n",
      "https://api.github.com/search/repositories?q=language:python+created:2010-03-01..2010-03-31\n",
      "https://api.github.com/search/repositories?q=language:python+created:2010-03-01..2010-03-31\n",
      "https://api.github.com/search/repositories?q=language:python+created:2010-04-01..2010-04-30\n",
      "https://api.github.com/search/repositories?q=language:python+created:2010-04-01..2010-04-30\n",
      "https://api.github.com/search/repositories?q=language:python+created:2010-05-01..2010-05-31\n",
      "https://api.github.com/search/repositories?q=language:python+created:2010-05-01..2010-05-31\n",
      "https://api.github.com/search/repositories?q=language:python+created:2010-06-01..2010-06-30\n",
      "https://api.github.com/search/repositories?q=language:python+created:2010-06-01..2010-06-30\n",
      "https://api.github.com/search/repositories?q=language:python+created:2010-07-01..2010-07-31\n",
      "https://api.github.com/search/repositories?q=language:python+created:2010-07-01..2010-07-31\n",
      "https://api.github.com/search/repositories?q=language:python+created:2010-08-01..2010-08-31\n",
      "https://api.github.com/search/repositories?q=language:python+created:2010-08-01..2010-08-31\n",
      "https://api.github.com/search/repositories?q=language:python+created:2010-09-01..2010-09-30\n",
      "https://api.github.com/search/repositories?q=language:python+created:2010-09-01..2010-09-30\n",
      "https://api.github.com/search/repositories?q=language:python+created:2010-10-01..2010-10-31\n",
      "https://api.github.com/search/repositories?q=language:python+created:2010-10-01..2010-10-31\n",
      "https://api.github.com/search/repositories?q=language:python+created:2010-11-01..2010-11-30\n",
      "error  https://api.github.com/search/repositories?q=language:python+created:2010-11-01..2010-11-30\n"
     ]
    },
    {
     "ename": "KeyError",
     "evalue": "'total_count'",
     "output_type": "error",
     "traceback": [
      "\u001b[1;31m---------------------------------------------------------------------------\u001b[0m",
      "\u001b[1;31mKeyError\u001b[0m                                  Traceback (most recent call last)",
      "\u001b[1;32m<ipython-input-89-e04403e4644c>\u001b[0m in \u001b[0;36m<module>\u001b[1;34m\u001b[0m\n\u001b[0;32m      3\u001b[0m \u001b[1;33m\u001b[0m\u001b[0m\n\u001b[0;32m      4\u001b[0m \u001b[0mrdata\u001b[0m \u001b[1;33m=\u001b[0m \u001b[0mBuildData\u001b[0m\u001b[1;33m(\u001b[0m\u001b[1;33m)\u001b[0m\u001b[1;33m\u001b[0m\u001b[1;33m\u001b[0m\u001b[0m\n\u001b[1;32m----> 5\u001b[1;33m \u001b[0mrdata\u001b[0m\u001b[1;33m.\u001b[0m\u001b[0mquery_data\u001b[0m\u001b[1;33m(\u001b[0m\u001b[1;34m\"python\"\u001b[0m\u001b[1;33m)\u001b[0m\u001b[1;33m\u001b[0m\u001b[1;33m\u001b[0m\u001b[0m\n\u001b[0m",
      "\u001b[1;32m<ipython-input-87-004ac86c5a77>\u001b[0m in \u001b[0;36mquery_data\u001b[1;34m(self, query)\u001b[0m\n\u001b[0;32m     21\u001b[0m                 \u001b[1;32melse\u001b[0m\u001b[1;33m:\u001b[0m\u001b[1;33m\u001b[0m\u001b[1;33m\u001b[0m\u001b[0m\n\u001b[0;32m     22\u001b[0m                     \u001b[0mprint\u001b[0m\u001b[1;33m(\u001b[0m\u001b[1;34m'error '\u001b[0m\u001b[1;33m,\u001b[0m \u001b[0mtmp_url\u001b[0m\u001b[1;33m)\u001b[0m\u001b[1;33m\u001b[0m\u001b[1;33m\u001b[0m\u001b[0m\n\u001b[1;32m---> 23\u001b[1;33m                     \u001b[0mprint\u001b[0m\u001b[1;33m(\u001b[0m \u001b[0mresponse\u001b[0m\u001b[1;33m.\u001b[0m\u001b[0mjson\u001b[0m\u001b[1;33m(\u001b[0m\u001b[1;33m)\u001b[0m\u001b[1;33m[\u001b[0m\u001b[1;34m'total_count'\u001b[0m\u001b[1;33m]\u001b[0m \u001b[1;33m)\u001b[0m\u001b[1;33m\u001b[0m\u001b[1;33m\u001b[0m\u001b[0m\n\u001b[0m\u001b[0;32m     24\u001b[0m                     \u001b[1;32mreturn\u001b[0m \u001b[1;32mFalse\u001b[0m\u001b[1;33m\u001b[0m\u001b[1;33m\u001b[0m\u001b[0m\n\u001b[0;32m     25\u001b[0m                 \u001b[0mprint\u001b[0m\u001b[1;33m(\u001b[0m\u001b[0mtmp_url\u001b[0m\u001b[1;33m)\u001b[0m\u001b[1;33m\u001b[0m\u001b[1;33m\u001b[0m\u001b[0m\n",
      "\u001b[1;31mKeyError\u001b[0m: 'total_count'"
     ]
    }
   ],
   "source": [
    "start_year  = 2010\n",
    "end_year    = 2011\n",
    "\n",
    "rdata = BuildData()\n",
    "rdata.query_data(\"python\")"
   ]
  },
  {
   "cell_type": "code",
   "execution_count": 86,
   "metadata": {},
   "outputs": [
    {
     "data": {
      "text/plain": [
       "[]"
      ]
     },
     "execution_count": 86,
     "metadata": {},
     "output_type": "execute_result"
    }
   ],
   "source": [
    "rdata.count_list"
   ]
  },
  {
   "cell_type": "code",
   "execution_count": 48,
   "metadata": {},
   "outputs": [
    {
     "data": {
      "text/plain": [
       "[265, 818, 2391, 5961, 42922, 58938, 59102, 72406, 91472]"
      ]
     },
     "execution_count": 48,
     "metadata": {},
     "output_type": "execute_result"
    }
   ],
   "source": [
    "rdata.count_listffff"
   ]
  },
  {
   "cell_type": "code",
   "execution_count": 51,
   "metadata": {},
   "outputs": [
    {
     "data": {
      "text/plain": [
       "[16731, 37181, 70539, 126557, 206009, 336920, 506937, 816119, 1211304]"
      ]
     },
     "execution_count": 51,
     "metadata": {},
     "output_type": "execute_result"
    }
   ],
   "source": [
    "pdata = BuildData()\n",
    "pdata.query_data(base_url_p)\n",
    "pdata.count_list"
   ]
  },
  {
   "cell_type": "code",
   "execution_count": 52,
   "metadata": {},
   "outputs": [],
   "source": [
    "import pandas as pd\n",
    "import numpy as np\n",
    "import matplotlib.pyplot as plt"
   ]
  },
  {
   "cell_type": "code",
   "execution_count": 57,
   "metadata": {},
   "outputs": [
    {
     "ename": "SyntaxError",
     "evalue": "invalid syntax (<ipython-input-57-5e9078d024da>, line 1)",
     "output_type": "error",
     "traceback": [
      "\u001b[1;36m  File \u001b[1;32m\"<ipython-input-57-5e9078d024da>\"\u001b[1;36m, line \u001b[1;32m1\u001b[0m\n\u001b[1;33m    c(range(start_year:end_year))\u001b[0m\n\u001b[1;37m                      ^\u001b[0m\n\u001b[1;31mSyntaxError\u001b[0m\u001b[1;31m:\u001b[0m invalid syntax\n"
     ]
    }
   ],
   "source": [
    "df['New_ID'] = range(start_year, end_year)\n"
   ]
  },
  {
   "cell_type": "code",
   "execution_count": 62,
   "metadata": {},
   "outputs": [
    {
     "data": {
      "text/plain": [
       "range(2010, 2019)"
      ]
     },
     "execution_count": 62,
     "metadata": {},
     "output_type": "execute_result"
    }
   ],
   "source": [
    "class QueryData:\n",
    "    \n",
    "    def __init__(self):\n",
    "        self.count_list = []\n",
    "        self.base_url = \"https://api.github.com/search/repositories?q=language:\"\n",
    "        self.start_year = 2008\n",
    "        self.end_year = 2018\n",
    "\n",
    "    def query_data(self, query):\n",
    "        now_year = self.start_year\n",
    "        while now_year <= self.end_year:\n",
    "            tmp_url = self.base_url + query + \"+created:\" + str(now_year) + \"-01-01..\" + str(now_year+1) + \"-01-01\"\n",
    "            response = requests.get(tmp_url)\n",
    "            if response.status_code == 200:\n",
    "                self.count_list.append( response.json()['total_count'] )\n",
    "            else:\n",
    "                print('error ', tmp_url)\n",
    "                print( response.json()['total_count'] )\n",
    "                return False\n",
    "            now_year += 1\n",
    "        return True"
   ]
  }
 ],
 "metadata": {
  "kernelspec": {
   "display_name": "Python 3",
   "language": "python",
   "name": "python3"
  },
  "language_info": {
   "codemirror_mode": {
    "name": "ipython",
    "version": 3
   },
   "file_extension": ".py",
   "mimetype": "text/x-python",
   "name": "python",
   "nbconvert_exporter": "python",
   "pygments_lexer": "ipython3",
   "version": "3.7.1"
  }
 },
 "nbformat": 4,
 "nbformat_minor": 2
}
